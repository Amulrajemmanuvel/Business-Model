{
 "cells": [
  {
   "cell_type": "code",
   "execution_count": null,
   "metadata": {},
   "outputs": [],
   "source": [
    "import openai\n",
    "from fpdf import FPDF\n",
    "from openai import OpenAI\n",
    "\n",
    "# Initialize OpenAI client\n",
    "key = \"\"\n",
    "openai.api_key = key\n",
    "client = OpenAI(api_key=key)\n",
    "\n",
    "ASSISTANT_ID = \"asst_1GFYK2uaH1RxiyUWwjxTIhkj\""
   ]
  },
  {
   "cell_type": "markdown",
   "metadata": {},
   "source": [
    "Individual Functionalities"
   ]
  },
  {
   "cell_type": "code",
   "execution_count": null,
   "metadata": {},
   "outputs": [],
   "source": [
    "# Step 1: Gather Initial Business Information\n",
    "def gather_business_info():\n",
    "    print(\"Hello! Welcome to the Business Model Assistant.\")\n",
    "    business_name = input(\"Please enter your business name: \")\n",
    "    business_website = input(\"Please enter your business website for better insights: \")\n",
    "    \n",
    "    # Placeholder for analyzing the website (if implemented)\n",
    "    print(f\"Analyzing the business website: {business_website}...\")\n",
    "    \n",
    "    return business_name, business_website"
   ]
  },
  {
   "cell_type": "code",
   "execution_count": null,
   "metadata": {},
   "outputs": [],
   "source": [
    "# Step 2: Ask Questions Regarding the Business Model\n",
    "def ask_business_model_questions():\n",
    "    print(\"We will now ask a series of questions to understand your business model.\")\n",
    "    \n",
    "    # Example questions (add more as needed)\n",
    "    questions = [\n",
    "        \"Who are your key partners?\",\n",
    "        \"What are your key activities?\",\n",
    "        \"What value do you deliver to your customers?\",\n",
    "        \"Who are your customer segments?\",\n",
    "        \"What are your key resources?\",\n",
    "        \"What is your revenue model?\",\n",
    "        \"What are your cost structures?\",\n",
    "        \"What are your channels of distribution?\",\n",
    "        \"What customer relationships do you maintain?\"\n",
    "    ]\n",
    "    \n",
    "    answers = {}\n",
    "    for question in questions:\n",
    "        answer = input(f\"{question} \")\n",
    "        answers[question] = answer\n",
    "    \n",
    "    return answers"
   ]
  },
  {
   "cell_type": "code",
   "execution_count": null,
   "metadata": {},
   "outputs": [],
   "source": [
    "# Step 3: Summarize the Business Model\n",
    "def summarize_business_model(answers):\n",
    "    print(\"Summarizing your business model based on the Business Model Canvas...\")\n",
    "    summary = \"Business Model Summary:\\n\"\n",
    "    for question, answer in answers.items():\n",
    "        summary += f\"{question}: {answer}\\n\"\n",
    "    print(summary)\n",
    "    return summary"
   ]
  },
  {
   "cell_type": "code",
   "execution_count": null,
   "metadata": {},
   "outputs": [],
   "source": [
    "# Step 4: Provide Suggestions and Recommendations\n",
    "def provide_recommendations():\n",
    "    print(\"Providing suggestions and recommendations to improve your business model...\")\n",
    "    recommendations = input(\"Do you want detailed recommendations? (yes/no) \")\n",
    "    \n",
    "    if recommendations.lower() == 'yes':\n",
    "        detailed_questions = [\n",
    "            \"Do you face challenges with your current revenue streams?\",\n",
    "            \"Are there any inefficiencies in your cost structure?\",\n",
    "            \"Do you have any issues with customer acquisition or retention?\",\n",
    "            \"Are there any potential new channels you are considering?\"\n",
    "        ]\n",
    "        \n",
    "        detailed_answers = {}\n",
    "        for question in detailed_questions:\n",
    "            answer = input(f\"{question} \")\n",
    "            detailed_answers[question] = answer\n",
    "        \n",
    "        # Generate recommendations based on detailed answers\n",
    "        recommendations_summary = \"Recommendations:\\n\"\n",
    "        # Placeholder logic for generating recommendations\n",
    "        recommendations_summary += \"Consider exploring new revenue streams...\\n\"\n",
    "        recommendations_summary += \"Optimize cost structures by evaluating key resources...\\n\"\n",
    "        print(recommendations_summary)\n",
    "        \n",
    "        return recommendations_summary, detailed_answers\n",
    "    else:\n",
    "        return \"No detailed recommendations requested.\", {}"
   ]
  },
  {
   "cell_type": "code",
   "execution_count": null,
   "metadata": {},
   "outputs": [],
   "source": [
    "\n",
    "# Step 5: Comparative Analysis of Current vs. Suggested Business Model\n",
    "def comparative_analysis(current_summary, recommendations_summary):\n",
    "    print(\"Performing comparative analysis of the current and suggested business models...\")\n",
    "    \n",
    "    # Placeholder for comparative analysis logic\n",
    "    analysis = \"Comparative Analysis:\\n\"\n",
    "    analysis += f\"Current Business Model:\\n{current_summary}\\n\"\n",
    "    analysis += f\"Suggested Improvements:\\n{recommendations_summary}\\n\"\n",
    "    analysis += \"Potential Pros: Increased efficiency, better customer reach...\\n\"\n",
    "    analysis += \"Potential Cons: Initial implementation costs, potential market risks...\\n\"\n",
    "    print(analysis)"
   ]
  },
  {
   "cell_type": "code",
   "execution_count": null,
   "metadata": {},
   "outputs": [],
   "source": [
    "# Generate PDF report\n",
    "def generate_pdf_report(business_name, business_summary, recommendations_summary, comparative_analysis):\n",
    "    print(\"Generating PDF report...\")\n",
    "    pdf = FPDF()\n",
    "    pdf.add_page()\n",
    "    \n",
    "    # Title\n",
    "    pdf.set_font(\"Arial\", size=12)\n",
    "    pdf.cell(200, 10, txt=\"Business Model Analysis Report\", ln=True, align='C')\n",
    "    \n",
    "    # Business Summary\n",
    "    pdf.set_font(\"Arial\", size=10)\n",
    "    pdf.cell(200, 10, txt=\"Business Model Summary\", ln=True)\n",
    "    pdf.multi_cell(200, 10, txt=business_summary)\n",
    "    \n",
    "    # Recommendations\n",
    "    pdf.cell(200, 10, txt=\"Recommendations\", ln=True)\n",
    "    pdf.multi_cell(200, 10, txt=recommendations_summary)\n",
    "    \n",
    "    # Comparative Analysis\n",
    "    pdf.cell(200, 10, txt=\"Comparative Analysis\", ln=True)\n",
    "    pdf.multi_cell(200, 10, txt=comparative_analysis)\n",
    "    \n",
    "    # Save PDF\n",
    "    pdf_output = f\"{business_name}_Business_Model_Report.pdf\"\n",
    "    pdf.output(pdf_output)\n",
    "    print(f\"PDF Report generated: {pdf_output}\")"
   ]
  },
  {
   "cell_type": "markdown",
   "metadata": {},
   "source": [
    "Main Loop Code"
   ]
  },
  {
   "cell_type": "code",
   "execution_count": null,
   "metadata": {},
   "outputs": [],
   "source": [
    "# Main function\n",
    "def main():\n",
    "    # Step 1: Gather Initial Business Information\n",
    "    business_name, business_website = gather_business_info()\n",
    "    \n",
    "    # Step 2: Ask Questions Regarding the Business Model\n",
    "    business_model_answers = ask_business_model_questions()\n",
    "    \n",
    "    # Step 3: Summarize the Business Model\n",
    "    business_summary = summarize_business_model(business_model_answers)\n",
    "    \n",
    "    # Step 4: Provide Suggestions and Recommendations\n",
    "    recommendations_summary, detailed_answers = provide_recommendations()\n",
    "    \n",
    "    # Step 5: Comparative Analysis of Current vs. Suggested Business Model\n",
    "    comparative_analysis_summary = comparative_analysis(business_summary, recommendations_summary)\n",
    "    \n",
    "    # Generate PDF report\n",
    "    generate_pdf_report(business_name, business_summary, recommendations_summary, comparative_analysis_summary)\n",
    "    \n",
    "    print(\"Business Model Assistant process completed.\")\n",
    "\n",
    "if __name__ == \"__main__\":\n",
    "    main()"
   ]
  }
 ],
 "metadata": {
  "language_info": {
   "name": "python"
  }
 },
 "nbformat": 4,
 "nbformat_minor": 2
}
